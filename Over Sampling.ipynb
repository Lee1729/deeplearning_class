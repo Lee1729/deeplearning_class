{
 "cells": [
  {
   "cell_type": "markdown",
   "id": "f8707ef0",
   "metadata": {},
   "source": [
    "# Over Sampling\n",
    "\n",
    "## 1. Dataset\n",
    "### 1.1 Load dataset"
   ]
  },
  {
   "cell_type": "code",
   "execution_count": 5,
   "id": "09e3c1c9",
   "metadata": {},
   "outputs": [],
   "source": [
    "import numpy as np\n",
    "import pandas as pd\n",
    "\n",
    "from collections import Counter\n",
    "\n",
    "from matplotlib import pyplot as plt\n",
    "import seaborn as sns\n",
    "\n",
    "from imblearn.under_sampling import RandomUnderSampler\n",
    "from imblearn.over_sampling import RandomOverSampler\n",
    "from imblearn.over_sampling import SMOTE"
   ]
  },
  {
   "cell_type": "code",
   "execution_count": 6,
   "id": "4b18008a",
   "metadata": {},
   "outputs": [],
   "source": [
    "dataset = pd.read_csv('kodit.csv', encoding='euc-kr')"
   ]
  },
  {
   "cell_type": "code",
   "execution_count": 12,
   "id": "91e77d0c",
   "metadata": {},
   "outputs": [
    {
     "data": {
      "text/html": [
       "<div>\n",
       "<style scoped>\n",
       "    .dataframe tbody tr th:only-of-type {\n",
       "        vertical-align: middle;\n",
       "    }\n",
       "\n",
       "    .dataframe tbody tr th {\n",
       "        vertical-align: top;\n",
       "    }\n",
       "\n",
       "    .dataframe thead th {\n",
       "        text-align: right;\n",
       "    }\n",
       "</style>\n",
       "<table border=\"1\" class=\"dataframe\">\n",
       "  <thead>\n",
       "    <tr style=\"text-align: right;\">\n",
       "      <th></th>\n",
       "      <th>고객번호</th>\n",
       "      <th>설립기간</th>\n",
       "      <th>상시직원수</th>\n",
       "      <th>기업규모코드</th>\n",
       "      <th>주요사업장담보제공여부</th>\n",
       "      <th>주사업장담보설정금액</th>\n",
       "      <th>주요사업장건물규모면적</th>\n",
       "      <th>주요사업장대지규모면적</th>\n",
       "      <th>주요사업장월세금액</th>\n",
       "      <th>주요사업장전세금액</th>\n",
       "      <th>...</th>\n",
       "      <th>운전자금합계금액</th>\n",
       "      <th>무역금융합계금액</th>\n",
       "      <th>할인어음합계금액</th>\n",
       "      <th>지급보증합계금액</th>\n",
       "      <th>시설대여합계금액</th>\n",
       "      <th>총차입금합계금액</th>\n",
       "      <th>평가일이후최초부실발생</th>\n",
       "      <th>최근매출실적</th>\n",
       "      <th>당기매출실적</th>\n",
       "      <th>전기매출실적</th>\n",
       "    </tr>\n",
       "  </thead>\n",
       "  <tbody>\n",
       "    <tr>\n",
       "      <th>0</th>\n",
       "      <td>89718313</td>\n",
       "      <td>1</td>\n",
       "      <td>1</td>\n",
       "      <td>4</td>\n",
       "      <td>0</td>\n",
       "      <td>0.0</td>\n",
       "      <td>0</td>\n",
       "      <td>0</td>\n",
       "      <td>3500</td>\n",
       "      <td>35</td>\n",
       "      <td>...</td>\n",
       "      <td>20</td>\n",
       "      <td>0</td>\n",
       "      <td>0</td>\n",
       "      <td>0</td>\n",
       "      <td>0</td>\n",
       "      <td>20</td>\n",
       "      <td>0</td>\n",
       "      <td>971</td>\n",
       "      <td>994</td>\n",
       "      <td>0</td>\n",
       "    </tr>\n",
       "    <tr>\n",
       "      <th>1</th>\n",
       "      <td>90651146</td>\n",
       "      <td>5</td>\n",
       "      <td>4</td>\n",
       "      <td>4</td>\n",
       "      <td>0</td>\n",
       "      <td>0.0</td>\n",
       "      <td>250</td>\n",
       "      <td>848</td>\n",
       "      <td>1500</td>\n",
       "      <td>20</td>\n",
       "      <td>...</td>\n",
       "      <td>0</td>\n",
       "      <td>0</td>\n",
       "      <td>0</td>\n",
       "      <td>20</td>\n",
       "      <td>12</td>\n",
       "      <td>32</td>\n",
       "      <td>0</td>\n",
       "      <td>3054</td>\n",
       "      <td>3054</td>\n",
       "      <td>3960</td>\n",
       "    </tr>\n",
       "    <tr>\n",
       "      <th>2</th>\n",
       "      <td>90597406</td>\n",
       "      <td>5</td>\n",
       "      <td>11</td>\n",
       "      <td>4</td>\n",
       "      <td>0</td>\n",
       "      <td>0.0</td>\n",
       "      <td>0</td>\n",
       "      <td>0</td>\n",
       "      <td>6500</td>\n",
       "      <td>100</td>\n",
       "      <td>...</td>\n",
       "      <td>607</td>\n",
       "      <td>0</td>\n",
       "      <td>0</td>\n",
       "      <td>0</td>\n",
       "      <td>162</td>\n",
       "      <td>769</td>\n",
       "      <td>0</td>\n",
       "      <td>0</td>\n",
       "      <td>1611</td>\n",
       "      <td>0</td>\n",
       "    </tr>\n",
       "    <tr>\n",
       "      <th>3</th>\n",
       "      <td>86393317</td>\n",
       "      <td>1</td>\n",
       "      <td>3</td>\n",
       "      <td>4</td>\n",
       "      <td>0</td>\n",
       "      <td>0.0</td>\n",
       "      <td>213</td>\n",
       "      <td>493</td>\n",
       "      <td>6000</td>\n",
       "      <td>60</td>\n",
       "      <td>...</td>\n",
       "      <td>50</td>\n",
       "      <td>0</td>\n",
       "      <td>0</td>\n",
       "      <td>0</td>\n",
       "      <td>0</td>\n",
       "      <td>50</td>\n",
       "      <td>0</td>\n",
       "      <td>563</td>\n",
       "      <td>961</td>\n",
       "      <td>0</td>\n",
       "    </tr>\n",
       "    <tr>\n",
       "      <th>4</th>\n",
       "      <td>90603765</td>\n",
       "      <td>0</td>\n",
       "      <td>0</td>\n",
       "      <td>4</td>\n",
       "      <td>1</td>\n",
       "      <td>420.0</td>\n",
       "      <td>181</td>\n",
       "      <td>58</td>\n",
       "      <td>0</td>\n",
       "      <td>0</td>\n",
       "      <td>...</td>\n",
       "      <td>460</td>\n",
       "      <td>0</td>\n",
       "      <td>0</td>\n",
       "      <td>0</td>\n",
       "      <td>350</td>\n",
       "      <td>810</td>\n",
       "      <td>0</td>\n",
       "      <td>0</td>\n",
       "      <td>0</td>\n",
       "      <td>0</td>\n",
       "    </tr>\n",
       "  </tbody>\n",
       "</table>\n",
       "<p>5 rows × 25 columns</p>\n",
       "</div>"
      ],
      "text/plain": [
       "       고객번호  설립기간  상시직원수  기업규모코드  주요사업장담보제공여부  주사업장담보설정금액  주요사업장건물규모면적  \\\n",
       "0  89718313     1      1       4            0         0.0            0   \n",
       "1  90651146     5      4       4            0         0.0          250   \n",
       "2  90597406     5     11       4            0         0.0            0   \n",
       "3  86393317     1      3       4            0         0.0          213   \n",
       "4  90603765     0      0       4            1       420.0          181   \n",
       "\n",
       "   주요사업장대지규모면적  주요사업장월세금액  주요사업장전세금액  ...  운전자금합계금액  무역금융합계금액  할인어음합계금액  \\\n",
       "0            0       3500         35  ...        20         0         0   \n",
       "1          848       1500         20  ...         0         0         0   \n",
       "2            0       6500        100  ...       607         0         0   \n",
       "3          493       6000         60  ...        50         0         0   \n",
       "4           58          0          0  ...       460         0         0   \n",
       "\n",
       "   지급보증합계금액  시설대여합계금액  총차입금합계금액  평가일이후최초부실발생  최근매출실적  당기매출실적  전기매출실적  \n",
       "0         0         0        20            0     971     994       0  \n",
       "1        20        12        32            0    3054    3054    3960  \n",
       "2         0       162       769            0       0    1611       0  \n",
       "3         0         0        50            0     563     961       0  \n",
       "4         0       350       810            0       0       0       0  \n",
       "\n",
       "[5 rows x 25 columns]"
      ]
     },
     "execution_count": 12,
     "metadata": {},
     "output_type": "execute_result"
    }
   ],
   "source": [
    "dataset = dataset.drop('Unnamed: 0',axis=1) \n",
    "dataset.head()"
   ]
  },
  {
   "cell_type": "markdown",
   "id": "695cc4a8-08ff-4ad6-9c6a-b5063f752087",
   "metadata": {},
   "source": [
    "### 1.2 dataset info"
   ]
  },
  {
   "cell_type": "code",
   "execution_count": 14,
   "id": "5abda3a8-96b0-47ad-8472-ac40caaa8f19",
   "metadata": {},
   "outputs": [
    {
     "data": {
      "text/plain": [
       "(63961, 25)"
      ]
     },
     "execution_count": 14,
     "metadata": {},
     "output_type": "execute_result"
    }
   ],
   "source": [
    "dataset.shape"
   ]
  },
  {
   "cell_type": "code",
   "execution_count": 13,
   "id": "bcd00669-d55a-47be-87df-17deb0b0afbd",
   "metadata": {},
   "outputs": [
    {
     "data": {
      "text/plain": [
       "Index(['고객번호', '설립기간', '상시직원수', '기업규모코드', '주요사업장담보제공여부', '주사업장담보설정금액',\n",
       "       '주요사업장건물규모면적', '주요사업장대지규모면적', '주요사업장월세금액', '주요사업장전세금액',\n",
       "       '주요사업장자가소유권리침해코드', '대표자소유권리침해구분코드', '대표자소유담보제공여부', '대표자소유담보설정금액',\n",
       "       '평가모형코드', '운전자금합계금액', '무역금융합계금액', '할인어음합계금액', '지급보증합계금액', '시설대여합계금액',\n",
       "       '총차입금합계금액', '평가일이후최초부실발생', '최근매출실적', '당기매출실적', '전기매출실적'],\n",
       "      dtype='object')"
      ]
     },
     "execution_count": 13,
     "metadata": {},
     "output_type": "execute_result"
    }
   ],
   "source": [
    "dataset.columns"
   ]
  },
  {
   "cell_type": "code",
   "execution_count": 15,
   "id": "df8faada-3a97-4c88-8e7a-b39e0ba5372a",
   "metadata": {},
   "outputs": [],
   "source": [
    "X = dataset.drop('평가일이후최초부실발생',axis=1)  \n",
    "X = X.drop('고객번호', axis=1)\n",
    "y = dataset['평가일이후최초부실발생']"
   ]
  },
  {
   "cell_type": "code",
   "execution_count": 16,
   "id": "ffa790c4-f93d-469f-9ea2-bd28125568f0",
   "metadata": {},
   "outputs": [
    {
     "data": {
      "text/plain": [
       "0    61463\n",
       "1     2498\n",
       "Name: 평가일이후최초부실발생, dtype: int64"
      ]
     },
     "execution_count": 16,
     "metadata": {},
     "output_type": "execute_result"
    }
   ],
   "source": [
    "y.value_counts()"
   ]
  },
  {
   "cell_type": "code",
   "execution_count": 17,
   "id": "f231ebeb-7afe-4fff-9512-98be2d22fd26",
   "metadata": {},
   "outputs": [
    {
     "name": "stdout",
     "output_type": "stream",
     "text": [
      "부도 발생 회사 비율 0.03905504917058833\n"
     ]
    }
   ],
   "source": [
    "print('부도 발생 회사 비율', 2498/len(X))"
   ]
  },
  {
   "cell_type": "markdown",
   "id": "2313dc3e-36de-438b-a6ed-7d05bb27889b",
   "metadata": {
    "tags": []
   },
   "source": [
    "+ Remark\n",
    "    - class가 약 24:1로 매우 불균형\n",
    "    \n",
    "### 1.3 train test split"
   ]
  },
  {
   "cell_type": "code",
   "execution_count": 5,
   "id": "f5b37b49-7404-43ed-894f-10e7f55fe29d",
   "metadata": {},
   "outputs": [],
   "source": [
    "from sklearn.model_selection import train_test_split\n",
    "# train set 80%, test set 20%\n",
    "X_train,X_test,y_train,y_test = train_test_split(X,y, test_size=0.30, random_state=1333)"
   ]
  },
  {
   "cell_type": "code",
   "execution_count": 6,
   "id": "6560822b",
   "metadata": {},
   "outputs": [
    {
     "name": "stdout",
     "output_type": "stream",
     "text": [
      "(44772, 23)\n",
      "(19189, 23)\n",
      "(44772,)\n",
      "(19189,)\n"
     ]
    }
   ],
   "source": [
    "print(X_train.shape)\n",
    "print(X_test.shape)\n",
    "print(y_train.shape)\n",
    "print(y_test.shape)"
   ]
  },
  {
   "cell_type": "markdown",
   "id": "9bad9189",
   "metadata": {
    "tags": []
   },
   "source": [
    "## 2. Over sampling\n",
    "- training set over sampling"
   ]
  },
  {
   "cell_type": "code",
   "execution_count": 7,
   "id": "f14d9839",
   "metadata": {},
   "outputs": [
    {
     "name": "stdout",
     "output_type": "stream",
     "text": [
      "Counter({0: 43009, 1: 43009})\n"
     ]
    }
   ],
   "source": [
    "oversample = RandomOverSampler(sampling_strategy='minority')\n",
    "X_train, y_train = oversample.fit_resample(X_train, y_train)\n",
    "print(Counter(y_train))"
   ]
  },
  {
   "cell_type": "markdown",
   "id": "cb7c5314-c7bb-4d8b-b5d5-b3037037d375",
   "metadata": {},
   "source": [
    "### save to csv file"
   ]
  },
  {
   "cell_type": "code",
   "execution_count": 9,
   "id": "9137498d",
   "metadata": {},
   "outputs": [],
   "source": [
    "X_train.to_csv('C:/Users/JI-HYEON/Desktop/ㄱㅂ/인공신경망과딥러닝/cnn/X_train.csv', sep=',', encoding='euc-kr')\n",
    "X_test.to_csv('C:/Users/JI-HYEON/Desktop/ㄱㅂ/인공신경망과딥러닝/cnn/X_test.csv', sep=',', encoding='euc-kr')\n",
    "y_train.to_csv('C:/Users/JI-HYEON/Desktop/ㄱㅂ/인공신경망과딥러닝/cnn/y_train.csv', sep=',', encoding='euc-kr')\n",
    "y_test.to_csv('C:/Users/JI-HYEON/Desktop/ㄱㅂ/인공신경망과딥러닝/cnn/y_test.csv', sep=',', encoding='euc-kr')"
   ]
  }
 ],
 "metadata": {
  "kernelspec": {
   "display_name": "Python 3 (ipykernel)",
   "language": "python",
   "name": "python3"
  },
  "language_info": {
   "codemirror_mode": {
    "name": "ipython",
    "version": 3
   },
   "file_extension": ".py",
   "mimetype": "text/x-python",
   "name": "python",
   "nbconvert_exporter": "python",
   "pygments_lexer": "ipython3",
   "version": "3.8.11"
  }
 },
 "nbformat": 4,
 "nbformat_minor": 5
}
