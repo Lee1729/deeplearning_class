{
 "cells": [
  {
   "cell_type": "markdown",
   "id": "f8707ef0",
   "metadata": {},
   "source": [
    "# Logistic Regression\n",
    "\n",
    "## 1. Load dataset"
   ]
  },
  {
   "cell_type": "code",
   "execution_count": 3,
   "id": "09e3c1c9",
   "metadata": {},
   "outputs": [],
   "source": [
    "import numpy as np\n",
    "import pandas as pd\n",
    "\n",
    "from collections import Counter\n",
    "\n",
    "from matplotlib import pyplot as plt\n",
    "import seaborn as sns\n",
    "\n",
    "from imblearn.under_sampling import RandomUnderSampler\n",
    "from imblearn.over_sampling import RandomOverSampler\n",
    "from imblearn.over_sampling import SMOTE"
   ]
  },
  {
   "cell_type": "code",
   "execution_count": 4,
   "id": "4b18008a",
   "metadata": {},
   "outputs": [],
   "source": [
    "dataset = pd.read_csv('kodit.csv', encoding='euc-kr')"
   ]
  },
  {
   "cell_type": "code",
   "execution_count": 5,
   "id": "91e77d0c",
   "metadata": {},
   "outputs": [
    {
     "data": {
      "text/html": [
       "<div>\n",
       "<style scoped>\n",
       "    .dataframe tbody tr th:only-of-type {\n",
       "        vertical-align: middle;\n",
       "    }\n",
       "\n",
       "    .dataframe tbody tr th {\n",
       "        vertical-align: top;\n",
       "    }\n",
       "\n",
       "    .dataframe thead th {\n",
       "        text-align: right;\n",
       "    }\n",
       "</style>\n",
       "<table border=\"1\" class=\"dataframe\">\n",
       "  <thead>\n",
       "    <tr style=\"text-align: right;\">\n",
       "      <th></th>\n",
       "      <th>고객번호</th>\n",
       "      <th>설립기간</th>\n",
       "      <th>상시직원수</th>\n",
       "      <th>기업규모코드</th>\n",
       "      <th>주요사업장담보제공여부</th>\n",
       "      <th>주사업장담보설정금액</th>\n",
       "      <th>주요사업장건물규모면적</th>\n",
       "      <th>주요사업장대지규모면적</th>\n",
       "      <th>주요사업장월세금액</th>\n",
       "      <th>주요사업장전세금액</th>\n",
       "      <th>...</th>\n",
       "      <th>운전자금합계금액</th>\n",
       "      <th>무역금융합계금액</th>\n",
       "      <th>할인어음합계금액</th>\n",
       "      <th>지급보증합계금액</th>\n",
       "      <th>시설대여합계금액</th>\n",
       "      <th>총차입금합계금액</th>\n",
       "      <th>평가일이후최초부실발생</th>\n",
       "      <th>최근매출실적</th>\n",
       "      <th>당기매출실적</th>\n",
       "      <th>전기매출실적</th>\n",
       "    </tr>\n",
       "  </thead>\n",
       "  <tbody>\n",
       "    <tr>\n",
       "      <th>0</th>\n",
       "      <td>89718313</td>\n",
       "      <td>1</td>\n",
       "      <td>1</td>\n",
       "      <td>4</td>\n",
       "      <td>0</td>\n",
       "      <td>0.0</td>\n",
       "      <td>0</td>\n",
       "      <td>0</td>\n",
       "      <td>3500</td>\n",
       "      <td>35</td>\n",
       "      <td>...</td>\n",
       "      <td>20</td>\n",
       "      <td>0</td>\n",
       "      <td>0</td>\n",
       "      <td>0</td>\n",
       "      <td>0</td>\n",
       "      <td>20</td>\n",
       "      <td>0</td>\n",
       "      <td>971</td>\n",
       "      <td>994</td>\n",
       "      <td>0</td>\n",
       "    </tr>\n",
       "    <tr>\n",
       "      <th>1</th>\n",
       "      <td>90651146</td>\n",
       "      <td>5</td>\n",
       "      <td>4</td>\n",
       "      <td>4</td>\n",
       "      <td>0</td>\n",
       "      <td>0.0</td>\n",
       "      <td>250</td>\n",
       "      <td>848</td>\n",
       "      <td>1500</td>\n",
       "      <td>20</td>\n",
       "      <td>...</td>\n",
       "      <td>0</td>\n",
       "      <td>0</td>\n",
       "      <td>0</td>\n",
       "      <td>20</td>\n",
       "      <td>12</td>\n",
       "      <td>32</td>\n",
       "      <td>0</td>\n",
       "      <td>3054</td>\n",
       "      <td>3054</td>\n",
       "      <td>3960</td>\n",
       "    </tr>\n",
       "    <tr>\n",
       "      <th>2</th>\n",
       "      <td>90597406</td>\n",
       "      <td>5</td>\n",
       "      <td>11</td>\n",
       "      <td>4</td>\n",
       "      <td>0</td>\n",
       "      <td>0.0</td>\n",
       "      <td>0</td>\n",
       "      <td>0</td>\n",
       "      <td>6500</td>\n",
       "      <td>100</td>\n",
       "      <td>...</td>\n",
       "      <td>607</td>\n",
       "      <td>0</td>\n",
       "      <td>0</td>\n",
       "      <td>0</td>\n",
       "      <td>162</td>\n",
       "      <td>769</td>\n",
       "      <td>0</td>\n",
       "      <td>0</td>\n",
       "      <td>1611</td>\n",
       "      <td>0</td>\n",
       "    </tr>\n",
       "    <tr>\n",
       "      <th>3</th>\n",
       "      <td>86393317</td>\n",
       "      <td>1</td>\n",
       "      <td>3</td>\n",
       "      <td>4</td>\n",
       "      <td>0</td>\n",
       "      <td>0.0</td>\n",
       "      <td>213</td>\n",
       "      <td>493</td>\n",
       "      <td>6000</td>\n",
       "      <td>60</td>\n",
       "      <td>...</td>\n",
       "      <td>50</td>\n",
       "      <td>0</td>\n",
       "      <td>0</td>\n",
       "      <td>0</td>\n",
       "      <td>0</td>\n",
       "      <td>50</td>\n",
       "      <td>0</td>\n",
       "      <td>563</td>\n",
       "      <td>961</td>\n",
       "      <td>0</td>\n",
       "    </tr>\n",
       "    <tr>\n",
       "      <th>4</th>\n",
       "      <td>90603765</td>\n",
       "      <td>0</td>\n",
       "      <td>0</td>\n",
       "      <td>4</td>\n",
       "      <td>1</td>\n",
       "      <td>420.0</td>\n",
       "      <td>181</td>\n",
       "      <td>58</td>\n",
       "      <td>0</td>\n",
       "      <td>0</td>\n",
       "      <td>...</td>\n",
       "      <td>460</td>\n",
       "      <td>0</td>\n",
       "      <td>0</td>\n",
       "      <td>0</td>\n",
       "      <td>350</td>\n",
       "      <td>810</td>\n",
       "      <td>0</td>\n",
       "      <td>0</td>\n",
       "      <td>0</td>\n",
       "      <td>0</td>\n",
       "    </tr>\n",
       "  </tbody>\n",
       "</table>\n",
       "<p>5 rows × 25 columns</p>\n",
       "</div>"
      ],
      "text/plain": [
       "       고객번호  설립기간  상시직원수  기업규모코드  주요사업장담보제공여부  주사업장담보설정금액  주요사업장건물규모면적  \\\n",
       "0  89718313     1      1       4            0         0.0            0   \n",
       "1  90651146     5      4       4            0         0.0          250   \n",
       "2  90597406     5     11       4            0         0.0            0   \n",
       "3  86393317     1      3       4            0         0.0          213   \n",
       "4  90603765     0      0       4            1       420.0          181   \n",
       "\n",
       "   주요사업장대지규모면적  주요사업장월세금액  주요사업장전세금액  ...  운전자금합계금액  무역금융합계금액  할인어음합계금액  \\\n",
       "0            0       3500         35  ...        20         0         0   \n",
       "1          848       1500         20  ...         0         0         0   \n",
       "2            0       6500        100  ...       607         0         0   \n",
       "3          493       6000         60  ...        50         0         0   \n",
       "4           58          0          0  ...       460         0         0   \n",
       "\n",
       "   지급보증합계금액  시설대여합계금액  총차입금합계금액  평가일이후최초부실발생  최근매출실적  당기매출실적  전기매출실적  \n",
       "0         0         0        20            0     971     994       0  \n",
       "1        20        12        32            0    3054    3054    3960  \n",
       "2         0       162       769            0       0    1611       0  \n",
       "3         0         0        50            0     563     961       0  \n",
       "4         0       350       810            0       0       0       0  \n",
       "\n",
       "[5 rows x 25 columns]"
      ]
     },
     "execution_count": 5,
     "metadata": {},
     "output_type": "execute_result"
    }
   ],
   "source": [
    "dataset.head()"
   ]
  },
  {
   "cell_type": "markdown",
   "id": "adb36888",
   "metadata": {},
   "source": [
    "## 1-1. Over smpling dataset load"
   ]
  },
  {
   "cell_type": "code",
   "execution_count": 6,
   "id": "79325b9e",
   "metadata": {},
   "outputs": [],
   "source": [
    "X_train = pd.read_csv('X_train.csv', encoding='euc-kr')\n",
    "X_test = pd.read_csv('X_test.csv', encoding='euc-kr')\n",
    "y_train = pd.read_csv('y_train.csv', encoding='euc-kr')\n",
    "y_test = pd.read_csv('y_test.csv', encoding='euc-kr')"
   ]
  },
  {
   "cell_type": "markdown",
   "id": "35d93d06",
   "metadata": {},
   "source": [
    "# 2. Logistic Regression\n",
    "\n",
    "## 2-2 Model\n"
   ]
  },
  {
   "cell_type": "code",
   "execution_count": 22,
   "id": "b3e26474",
   "metadata": {},
   "outputs": [
    {
     "name": "stdout",
     "output_type": "stream",
     "text": [
      "Train Set Accuracy:55.10590806575368\n",
      "Test Set Accuracy:71.23873052269529\n"
     ]
    }
   ],
   "source": [
    "from sklearn.linear_model import LogisticRegression\n",
    "from sklearn.metrics import accuracy_score, confusion_matrix, classification_report\n",
    "lr = LogisticRegression()\n",
    "lr.fit(X_train,y_train)\n",
    "\n",
    "y_test_pred = lr.predict(X_test)\n",
    "y_train_pred = lr.predict(X_train)\n",
    "\n",
    "lr_acc=accuracy_score(y_test_pred, y_test)\n",
    "\n",
    "print(\"Train Set Accuracy:\"+str(accuracy_score(y_train_pred,y_train)*100))\n",
    "print(\"Test Set Accuracy:\"+str(accuracy_score(y_test_pred,y_test)*100))"
   ]
  },
  {
   "cell_type": "markdown",
   "id": "74e13755",
   "metadata": {},
   "source": [
    "## 2-2. Predictive performance\n",
    "- Confusion matrix, ACC, F1, ROC curve, AUC"
   ]
  },
  {
   "cell_type": "code",
   "execution_count": 23,
   "id": "15496915",
   "metadata": {},
   "outputs": [
    {
     "data": {
      "image/png": "[encoded data removed]",
      "text/plain": [
       "<Figure size 504x360 with 2 Axes>"
      ]
     },
     "metadata": {
      "needs_background": "light"
     },
     "output_type": "display_data"
    }
   ],
   "source": [
    "from sklearn.metrics import confusion_matrix, classification_report\n",
    "classes = [0,1]\n",
    "cf_matrix = confusion_matrix(y_test, y_test_pred)\n",
    "df_cm = pd.DataFrame(cf_matrix, index = [i for i in classes],\n",
    "                     columns = [i for i in classes])\n",
    "plt.figure(figsize = (7,5))\n",
    "sns.heatmap(df_cm, annot=True, cmap='Blues',fmt=\".0f\")\n",
    "plt.title('Confusion matrix');\n",
    "# plt.savefig('confusion_matrix.png',dpi=300)"
   ]
  },
  {
   "cell_type": "code",
   "execution_count": 24,
   "id": "3dcb9b1e",
   "metadata": {},
   "outputs": [
    {
     "name": "stdout",
     "output_type": "stream",
     "text": [
      "\n",
      "Confusion Matrix:\n",
      "[[13391  5063]\n",
      " [  456   279]]\n",
      "\n",
      "Classification Report:\n",
      "              precision    recall  f1-score   support\n",
      "\n",
      "           0       0.97      0.73      0.83     18454\n",
      "           1       0.05      0.38      0.09       735\n",
      "\n",
      "    accuracy                           0.71     19189\n",
      "   macro avg       0.51      0.55      0.46     19189\n",
      "weighted avg       0.93      0.71      0.80     19189\n",
      "\n"
     ]
    }
   ],
   "source": [
    "print(\"\\nConfusion Matrix:\\n%s\"%confusion_matrix(y_test,y_test_pred))\n",
    "print(\"\\nClassification Report:\\n%s\"%classification_report(y_test, y_test_pred))"
   ]
  },
  {
   "cell_type": "code",
   "execution_count": 25,
   "id": "1152cbba",
   "metadata": {},
   "outputs": [
    {
     "data": {
      "image/png": "[encoded data removed]",
      "text/plain": [
       "<Figure size 432x288 with 1 Axes>"
      ]
     },
     "metadata": {
      "needs_background": "light"
     },
     "output_type": "display_data"
    }
   ],
   "source": [
    "from sklearn.metrics import roc_curve\n",
    "def roc_curve_plot(y_test , pred_proba_c1):\n",
    "    fprs , tprs , thresholds = roc_curve(y_test ,pred_proba_c1)\n",
    "\n",
    "    plt.plot(fprs , tprs, label='ROC')\n",
    "    plt.plot([0, 1], [0, 1], 'k--', label='Random')\n",
    "  \n",
    "    start, end = plt.xlim()\n",
    "    plt.xticks(np.round(np.arange(start, end, 0.1),2))\n",
    "    plt.xlim(0,1)\n",
    "    plt.ylim(0,1)\n",
    "    plt.xlabel('FPR( 1 - Sensitivity )')\n",
    "    plt.ylabel('TPR( Recall )')\n",
    "    plt.legend()\n",
    "    plt.show()\n",
    "  \n",
    "roc_curve_plot(y_test, lr.predict_proba(X_test)[:, 1] )"
   ]
  },
  {
   "cell_type": "code",
   "execution_count": 26,
   "id": "27b56a5a",
   "metadata": {},
   "outputs": [
    {
     "name": "stdout",
     "output_type": "stream",
     "text": [
      "ROC AUC 값: 0.5736\n"
     ]
    }
   ],
   "source": [
    "from sklearn.metrics import roc_auc_score\n",
    "\n",
    "pred_proba = lr.predict_proba(X_test)[:, 1]\n",
    "roc_score = roc_auc_score(y_test, pred_proba)\n",
    "\n",
    "print('ROC AUC 값: {0:.4f}'.format(roc_score))"
   ]
  }
 ],
 "metadata": {
  "kernelspec": {
   "display_name": "Python 3 (ipykernel)",
   "language": "python",
   "name": "python3"
  },
  "language_info": {
   "codemirror_mode": {
    "name": "ipython",
    "version": 3
   },
   "file_extension": ".py",
   "mimetype": "text/x-python",
   "name": "python",
   "nbconvert_exporter": "python",
   "pygments_lexer": "ipython3",
   "version": "3.8.11"
  }
 },
 "nbformat": 4,
 "nbformat_minor": 5
}
